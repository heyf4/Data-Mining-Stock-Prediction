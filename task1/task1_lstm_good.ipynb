{
  "nbformat": 4,
  "nbformat_minor": 0,
  "metadata": {
    "colab": {
      "name": "task1_lstm_good.ipynb",
      "version": "0.3.2",
      "provenance": [],
      "collapsed_sections": []
    },
    "kernelspec": {
      "name": "python3",
      "display_name": "Python 3"
    },
    "accelerator": "GPU"
  },
  "cells": [
    {
      "cell_type": "markdown",
      "metadata": {
        "id": "XCMrmSk0ne7v",
        "colab_type": "text"
      },
      "source": [
        "#### 1. load the dataset\n",
        "\n"
      ]
    },
    {
      "cell_type": "code",
      "metadata": {
        "id": "wSCuBYGnnN9D",
        "colab_type": "code",
        "outputId": "9df9e1f3-a8d1-4595-b3fa-58a2069761ea",
        "colab": {
          "base_uri": "https://localhost:8080/",
          "height": 71
        }
      },
      "source": [
        "# Install the PyDrive wrapper & import libraries.\n",
        "# This only needs to be done once per notebook.\n",
        "!pip install -U -q PyDrive\n",
        "from pydrive.auth import GoogleAuth\n",
        "from pydrive.drive import GoogleDrive\n",
        "from google.colab import auth\n",
        "from oauth2client.client import GoogleCredentials\n",
        "import os\n",
        "import zipfile\n",
        "import pandas as pd\n",
        "\n",
        "# Authenticate and create the PyDrive client.\n",
        "# This only needs to be done once per notebook.\n",
        "auth.authenticate_user()\n",
        "gauth = GoogleAuth()\n",
        "gauth.credentials = GoogleCredentials.get_application_default()\n",
        "drive = GoogleDrive(gauth)\n",
        "\n",
        "# Download a file based on its file ID.\n",
        "#\n",
        "# A file ID looks like: laggVyWshwcyP6kEI-y_W3P8D26sz\n",
        "file_id = '1RayMjAmn0PhXM0I-bypjFBwU2RtgDwSw'\n",
        "downloaded = drive.CreateFile({'id': file_id})\n",
        "\n",
        "downloaded.GetContentFile('data.zip') \n",
        "\n",
        "\n",
        "path = os.listdir('.')\n",
        "print (path)\n",
        "\n",
        "\n",
        "with zipfile.ZipFile(\"data.zip\",\"r\") as datazip:\n",
        "  datazip.extractall(\"\")\n",
        "\n",
        "\n",
        "data = pd.read_csv(\"data.csv\") "
      ],
      "execution_count": 1,
      "outputs": [
        {
          "output_type": "stream",
          "text": [
            "\u001b[?25l\r\u001b[K     |▎                               | 10kB 23.8MB/s eta 0:00:01\r\u001b[K     |▋                               | 20kB 6.3MB/s eta 0:00:01\r\u001b[K     |█                               | 30kB 9.0MB/s eta 0:00:01\r\u001b[K     |█▎                              | 40kB 5.7MB/s eta 0:00:01\r\u001b[K     |█▋                              | 51kB 6.9MB/s eta 0:00:01\r\u001b[K     |██                              | 61kB 8.2MB/s eta 0:00:01\r\u001b[K     |██▎                             | 71kB 9.2MB/s eta 0:00:01\r\u001b[K     |██▋                             | 81kB 10.3MB/s eta 0:00:01\r\u001b[K     |███                             | 92kB 11.4MB/s eta 0:00:01\r\u001b[K     |███▎                            | 102kB 9.0MB/s eta 0:00:01\r\u001b[K     |███▋                            | 112kB 9.0MB/s eta 0:00:01\r\u001b[K     |████                            | 122kB 9.0MB/s eta 0:00:01\r\u001b[K     |████▎                           | 133kB 9.0MB/s eta 0:00:01\r\u001b[K     |████▋                           | 143kB 9.0MB/s eta 0:00:01\r\u001b[K     |█████                           | 153kB 9.0MB/s eta 0:00:01\r\u001b[K     |█████▎                          | 163kB 9.0MB/s eta 0:00:01\r\u001b[K     |█████▋                          | 174kB 9.0MB/s eta 0:00:01\r\u001b[K     |██████                          | 184kB 9.0MB/s eta 0:00:01\r\u001b[K     |██████▎                         | 194kB 9.0MB/s eta 0:00:01\r\u001b[K     |██████▋                         | 204kB 9.0MB/s eta 0:00:01\r\u001b[K     |███████                         | 215kB 9.0MB/s eta 0:00:01\r\u001b[K     |███████▎                        | 225kB 9.0MB/s eta 0:00:01\r\u001b[K     |███████▋                        | 235kB 9.0MB/s eta 0:00:01\r\u001b[K     |████████                        | 245kB 9.0MB/s eta 0:00:01\r\u001b[K     |████████▎                       | 256kB 9.0MB/s eta 0:00:01\r\u001b[K     |████████▋                       | 266kB 9.0MB/s eta 0:00:01\r\u001b[K     |█████████                       | 276kB 9.0MB/s eta 0:00:01\r\u001b[K     |█████████▎                      | 286kB 9.0MB/s eta 0:00:01\r\u001b[K     |█████████▋                      | 296kB 9.0MB/s eta 0:00:01\r\u001b[K     |██████████                      | 307kB 9.0MB/s eta 0:00:01\r\u001b[K     |██████████▎                     | 317kB 9.0MB/s eta 0:00:01\r\u001b[K     |██████████▋                     | 327kB 9.0MB/s eta 0:00:01\r\u001b[K     |███████████                     | 337kB 9.0MB/s eta 0:00:01\r\u001b[K     |███████████▎                    | 348kB 9.0MB/s eta 0:00:01\r\u001b[K     |███████████▋                    | 358kB 9.0MB/s eta 0:00:01\r\u001b[K     |████████████                    | 368kB 9.0MB/s eta 0:00:01\r\u001b[K     |████████████▎                   | 378kB 9.0MB/s eta 0:00:01\r\u001b[K     |████████████▋                   | 389kB 9.0MB/s eta 0:00:01\r\u001b[K     |█████████████                   | 399kB 9.0MB/s eta 0:00:01\r\u001b[K     |█████████████▎                  | 409kB 9.0MB/s eta 0:00:01\r\u001b[K     |█████████████▋                  | 419kB 9.0MB/s eta 0:00:01\r\u001b[K     |██████████████                  | 430kB 9.0MB/s eta 0:00:01\r\u001b[K     |██████████████▎                 | 440kB 9.0MB/s eta 0:00:01\r\u001b[K     |██████████████▋                 | 450kB 9.0MB/s eta 0:00:01\r\u001b[K     |███████████████                 | 460kB 9.0MB/s eta 0:00:01\r\u001b[K     |███████████████▎                | 471kB 9.0MB/s eta 0:00:01\r\u001b[K     |███████████████▋                | 481kB 9.0MB/s eta 0:00:01\r\u001b[K     |████████████████                | 491kB 9.0MB/s eta 0:00:01\r\u001b[K     |████████████████▎               | 501kB 9.0MB/s eta 0:00:01\r\u001b[K     |████████████████▋               | 512kB 9.0MB/s eta 0:00:01\r\u001b[K     |█████████████████               | 522kB 9.0MB/s eta 0:00:01\r\u001b[K     |█████████████████▎              | 532kB 9.0MB/s eta 0:00:01\r\u001b[K     |█████████████████▋              | 542kB 9.0MB/s eta 0:00:01\r\u001b[K     |██████████████████              | 552kB 9.0MB/s eta 0:00:01\r\u001b[K     |██████████████████▎             | 563kB 9.0MB/s eta 0:00:01\r\u001b[K     |██████████████████▋             | 573kB 9.0MB/s eta 0:00:01\r\u001b[K     |███████████████████             | 583kB 9.0MB/s eta 0:00:01\r\u001b[K     |███████████████████▎            | 593kB 9.0MB/s eta 0:00:01\r\u001b[K     |███████████████████▋            | 604kB 9.0MB/s eta 0:00:01\r\u001b[K     |████████████████████            | 614kB 9.0MB/s eta 0:00:01\r\u001b[K     |████████████████████▎           | 624kB 9.0MB/s eta 0:00:01\r\u001b[K     |████████████████████▋           | 634kB 9.0MB/s eta 0:00:01\r\u001b[K     |█████████████████████           | 645kB 9.0MB/s eta 0:00:01\r\u001b[K     |█████████████████████▎          | 655kB 9.0MB/s eta 0:00:01\r\u001b[K     |█████████████████████▋          | 665kB 9.0MB/s eta 0:00:01\r\u001b[K     |██████████████████████          | 675kB 9.0MB/s eta 0:00:01\r\u001b[K     |██████████████████████▎         | 686kB 9.0MB/s eta 0:00:01\r\u001b[K     |██████████████████████▋         | 696kB 9.0MB/s eta 0:00:01\r\u001b[K     |███████████████████████         | 706kB 9.0MB/s eta 0:00:01\r\u001b[K     |███████████████████████▎        | 716kB 9.0MB/s eta 0:00:01\r\u001b[K     |███████████████████████▋        | 727kB 9.0MB/s eta 0:00:01\r\u001b[K     |████████████████████████        | 737kB 9.0MB/s eta 0:00:01\r\u001b[K     |████████████████████████▎       | 747kB 9.0MB/s eta 0:00:01\r\u001b[K     |████████████████████████▋       | 757kB 9.0MB/s eta 0:00:01\r\u001b[K     |████████████████████████▉       | 768kB 9.0MB/s eta 0:00:01\r\u001b[K     |█████████████████████████▏      | 778kB 9.0MB/s eta 0:00:01\r\u001b[K     |█████████████████████████▌      | 788kB 9.0MB/s eta 0:00:01\r\u001b[K     |█████████████████████████▉      | 798kB 9.0MB/s eta 0:00:01\r\u001b[K     |██████████████████████████▏     | 808kB 9.0MB/s eta 0:00:01\r\u001b[K     |██████████████████████████▌     | 819kB 9.0MB/s eta 0:00:01\r\u001b[K     |██████████████████████████▉     | 829kB 9.0MB/s eta 0:00:01\r\u001b[K     |███████████████████████████▏    | 839kB 9.0MB/s eta 0:00:01\r\u001b[K     |███████████████████████████▌    | 849kB 9.0MB/s eta 0:00:01\r\u001b[K     |███████████████████████████▉    | 860kB 9.0MB/s eta 0:00:01\r\u001b[K     |████████████████████████████▏   | 870kB 9.0MB/s eta 0:00:01\r\u001b[K     |████████████████████████████▌   | 880kB 9.0MB/s eta 0:00:01\r\u001b[K     |████████████████████████████▉   | 890kB 9.0MB/s eta 0:00:01\r\u001b[K     |█████████████████████████████▏  | 901kB 9.0MB/s eta 0:00:01\r\u001b[K     |█████████████████████████████▌  | 911kB 9.0MB/s eta 0:00:01\r\u001b[K     |█████████████████████████████▉  | 921kB 9.0MB/s eta 0:00:01\r\u001b[K     |██████████████████████████████▏ | 931kB 9.0MB/s eta 0:00:01\r\u001b[K     |██████████████████████████████▌ | 942kB 9.0MB/s eta 0:00:01\r\u001b[K     |██████████████████████████████▉ | 952kB 9.0MB/s eta 0:00:01\r\u001b[K     |███████████████████████████████▏| 962kB 9.0MB/s eta 0:00:01\r\u001b[K     |███████████████████████████████▌| 972kB 9.0MB/s eta 0:00:01\r\u001b[K     |███████████████████████████████▉| 983kB 9.0MB/s eta 0:00:01\r\u001b[K     |████████████████████████████████| 993kB 9.0MB/s \n",
            "\u001b[?25h  Building wheel for PyDrive (setup.py) ... \u001b[?25l\u001b[?25hdone\n",
            "['.config', 'data.zip', 'adc.json', 'sample_data']\n"
          ],
          "name": "stdout"
        }
      ]
    },
    {
      "cell_type": "code",
      "metadata": {
        "id": "awvI0Wi3BU9H",
        "colab_type": "code",
        "colab": {
          "base_uri": "https://localhost:8080/",
          "height": 35
        },
        "outputId": "0c2e995b-f20e-43de-c818-79cd866365fc"
      },
      "source": [
        "import pandas as pd\n",
        "import numpy as np\n",
        "from keras.models import Sequential\n",
        "from keras.layers import Dense, Dropout, Activation, Flatten, LSTM\n",
        "from keras.layers.normalization import BatchNormalization\n",
        "from keras.optimizers import Adam\n",
        "from keras.callbacks import EarlyStopping\n",
        "import matplotlib.pyplot as plt\n",
        "%matplotlib inline"
      ],
      "execution_count": 5,
      "outputs": [
        {
          "output_type": "stream",
          "text": [
            "Using TensorFlow backend.\n"
          ],
          "name": "stderr"
        }
      ]
    },
    {
      "cell_type": "markdown",
      "metadata": {
        "id": "k0I71uDRnhFU",
        "colab_type": "text"
      },
      "source": [
        "#### 2. Normalization\n",
        "是否要加上时间戳？"
      ]
    },
    {
      "cell_type": "code",
      "metadata": {
        "id": "tX7fFFzgIBAi",
        "colab_type": "code",
        "colab": {}
      },
      "source": [
        "data=data.iloc[:100000]"
      ],
      "execution_count": 0,
      "outputs": []
    },
    {
      "cell_type": "code",
      "metadata": {
        "id": "Mt1Pl0tU1qVb",
        "colab_type": "code",
        "colab": {}
      },
      "source": [
        "data=data.drop(['UpdateTime', 'UpdateMillisec'],axis=1)\n",
        "data_norm=(data - data.mean()) / (data.max() - data.min())"
      ],
      "execution_count": 0,
      "outputs": []
    },
    {
      "cell_type": "markdown",
      "metadata": {
        "id": "hfbwxtit11Pn",
        "colab_type": "text"
      },
      "source": [
        "#### 3. Build training data"
      ]
    },
    {
      "cell_type": "code",
      "metadata": {
        "id": "qjenS_-MwSVy",
        "colab_type": "code",
        "colab": {}
      },
      "source": [
        "# some parameters\n",
        "n_samples=len(data)\n",
        "ratio=0.3\n",
        "past_n=50\n",
        "future_n=10\n",
        "# droplist=['midPrice', 'AskPrice1','BidPrice1','AskVolume1','BidVolume1']\n",
        "\n",
        "\n",
        "def buildTrain(data,past_n,future_n):\n",
        "  X_set=[]\n",
        "  Y_set=[]\n",
        "  n_samples=len(data)\n",
        "  for i in range(0,n_samples-past_n-future_n,1): #step=1\n",
        "    X_set.append(np.array(data.iloc[i:i+past_n]))\n",
        "    Y_set.append(np.array(data.iloc[i+past_n+future_n-1][\"midPrice\"]-data.iloc[i+past_n-1][\"midPrice\"]))\n",
        "  return np.array(X_set), np.array(Y_set)\n",
        "\n",
        "\n",
        "def shuffle(X,Y):\n",
        "  np.random.seed(6)\n",
        "  randomList = np.arange(X.shape[0])\n",
        "  np.random.shuffle(randomList)\n",
        "  return X[randomList], Y[randomList]\n",
        "\n",
        "def tt_split(X,Y,ratio):\n",
        "  X_train = X[int(X.shape[0]*ratio):]\n",
        "  Y_train = Y[int(Y.shape[0]*ratio):]\n",
        "  X_test = X[:int(X.shape[0]*ratio)]\n",
        "  Y_test = Y[:int(Y.shape[0]*ratio)]\n",
        "  return X_train, Y_train, X_test, Y_test\n",
        "\n",
        "X_set, Y_set=buildTrain(data_norm, past_n, future_n)\n",
        "\n",
        "X_set, Y_set=shuffle(X_set, Y_set)\n",
        "\n",
        "X_train, Y_train, X_test, Y_test = tt_split(X_set, Y_set, ratio)\n"
      ],
      "execution_count": 0,
      "outputs": []
    },
    {
      "cell_type": "code",
      "metadata": {
        "id": "UCdj6E2J5fo1",
        "colab_type": "code",
        "colab": {
          "base_uri": "https://localhost:8080/",
          "height": 35
        },
        "outputId": "1053f9ad-9f38-4d2e-9bd2-780e48e90512"
      },
      "source": [
        "print(X_train.shape[1])"
      ],
      "execution_count": 9,
      "outputs": [
        {
          "output_type": "stream",
          "text": [
            "50\n"
          ],
          "name": "stdout"
        }
      ]
    },
    {
      "cell_type": "markdown",
      "metadata": {
        "id": "9dGUMkcqA67R",
        "colab_type": "text"
      },
      "source": [
        "#### 4. build the model"
      ]
    },
    {
      "cell_type": "code",
      "metadata": {
        "id": "JsDIZ0CSA6At",
        "colab_type": "code",
        "outputId": "159ea977-9a76-4f09-ddd7-d4bd1b9447e3",
        "colab": {
          "base_uri": "https://localhost:8080/",
          "height": 361
        }
      },
      "source": [
        "model = Sequential()\n",
        "model.add(LSTM(100, input_length=X_train.shape[1], input_dim=X_train.shape[2]))\n",
        "model.add(Dense(1))\n",
        "model.compile(loss=\"mse\", optimizer=\"adam\")\n",
        "model.summary()"
      ],
      "execution_count": 10,
      "outputs": [
        {
          "output_type": "stream",
          "text": [
            "WARNING:tensorflow:From /usr/local/lib/python3.6/dist-packages/tensorflow/python/framework/op_def_library.py:263: colocate_with (from tensorflow.python.framework.ops) is deprecated and will be removed in a future version.\n",
            "Instructions for updating:\n",
            "Colocations handled automatically by placer.\n"
          ],
          "name": "stdout"
        },
        {
          "output_type": "stream",
          "text": [
            "/usr/local/lib/python3.6/dist-packages/ipykernel_launcher.py:2: UserWarning: The `input_dim` and `input_length` arguments in recurrent layers are deprecated. Use `input_shape` instead.\n",
            "  \n",
            "/usr/local/lib/python3.6/dist-packages/ipykernel_launcher.py:2: UserWarning: Update your `LSTM` call to the Keras 2 API: `LSTM(100, input_shape=(50, 137))`\n",
            "  \n"
          ],
          "name": "stderr"
        },
        {
          "output_type": "stream",
          "text": [
            "_________________________________________________________________\n",
            "Layer (type)                 Output Shape              Param #   \n",
            "=================================================================\n",
            "lstm_1 (LSTM)                (None, 100)               95200     \n",
            "_________________________________________________________________\n",
            "dense_1 (Dense)              (None, 1)                 101       \n",
            "=================================================================\n",
            "Total params: 95,301\n",
            "Trainable params: 95,301\n",
            "Non-trainable params: 0\n",
            "_________________________________________________________________\n"
          ],
          "name": "stdout"
        }
      ]
    },
    {
      "cell_type": "markdown",
      "metadata": {
        "id": "O3ZHp7QrFJ3x",
        "colab_type": "text"
      },
      "source": [
        "#### 5. train the model"
      ]
    },
    {
      "cell_type": "code",
      "metadata": {
        "id": "br94NgD2FKNO",
        "colab_type": "code",
        "outputId": "aa41b192-66f8-4eb8-b741-3c4aee908d8e",
        "colab": {
          "base_uri": "https://localhost:8080/",
          "height": 3727
        }
      },
      "source": [
        "callback = EarlyStopping(monitor=\"loss\", patience=20, verbose=1, mode=\"auto\")\n",
        "model.fit(X_train, Y_train, epochs=100, batch_size=128, validation_data=(X_test, Y_test), callbacks=[callback])"
      ],
      "execution_count": 11,
      "outputs": [
        {
          "output_type": "stream",
          "text": [
            "WARNING:tensorflow:From /usr/local/lib/python3.6/dist-packages/tensorflow/python/ops/math_ops.py:3066: to_int32 (from tensorflow.python.ops.math_ops) is deprecated and will be removed in a future version.\n",
            "Instructions for updating:\n",
            "Use tf.cast instead.\n",
            "Train on 69958 samples, validate on 29982 samples\n",
            "Epoch 1/100\n",
            "69958/69958 [==============================] - 53s 755us/step - loss: 1.3135e-04 - val_loss: 2.9551e-05\n",
            "Epoch 2/100\n",
            "69958/69958 [==============================] - 49s 695us/step - loss: 2.5905e-05 - val_loss: 1.7643e-05\n",
            "Epoch 3/100\n",
            "69958/69958 [==============================] - 48s 693us/step - loss: 2.1476e-05 - val_loss: 2.0123e-05\n",
            "Epoch 4/100\n",
            "69958/69958 [==============================] - 47s 670us/step - loss: 1.9652e-05 - val_loss: 1.5038e-05\n",
            "Epoch 5/100\n",
            "69958/69958 [==============================] - 48s 690us/step - loss: 2.2024e-05 - val_loss: 1.9749e-05\n",
            "Epoch 6/100\n",
            "69958/69958 [==============================] - 47s 670us/step - loss: 1.9017e-05 - val_loss: 2.2234e-05\n",
            "Epoch 7/100\n",
            "69958/69958 [==============================] - 50s 710us/step - loss: 1.7443e-05 - val_loss: 1.4469e-05\n",
            "Epoch 8/100\n",
            "69958/69958 [==============================] - 49s 700us/step - loss: 1.6982e-05 - val_loss: 1.5763e-05\n",
            "Epoch 9/100\n",
            "69958/69958 [==============================] - 47s 670us/step - loss: 1.6646e-05 - val_loss: 1.4663e-05\n",
            "Epoch 10/100\n",
            "69958/69958 [==============================] - 48s 688us/step - loss: 1.5750e-05 - val_loss: 1.5566e-05\n",
            "Epoch 11/100\n",
            "69958/69958 [==============================] - 47s 669us/step - loss: 1.5636e-05 - val_loss: 1.3987e-05\n",
            "Epoch 12/100\n",
            "69958/69958 [==============================] - 48s 691us/step - loss: 1.4831e-05 - val_loss: 1.5245e-05\n",
            "Epoch 13/100\n",
            "69958/69958 [==============================] - 48s 687us/step - loss: 1.4867e-05 - val_loss: 1.4407e-05\n",
            "Epoch 14/100\n",
            "69958/69958 [==============================] - 49s 698us/step - loss: 1.3644e-05 - val_loss: 1.5001e-05\n",
            "Epoch 15/100\n",
            "69958/69958 [==============================] - 48s 684us/step - loss: 1.3530e-05 - val_loss: 1.2465e-05\n",
            "Epoch 16/100\n",
            "69958/69958 [==============================] - 46s 663us/step - loss: 1.3071e-05 - val_loss: 1.2516e-05\n",
            "Epoch 17/100\n",
            "69958/69958 [==============================] - 48s 682us/step - loss: 1.2696e-05 - val_loss: 1.2319e-05\n",
            "Epoch 18/100\n",
            "69958/69958 [==============================] - 47s 679us/step - loss: 1.2520e-05 - val_loss: 1.2548e-05\n",
            "Epoch 19/100\n",
            "69958/69958 [==============================] - 47s 665us/step - loss: 1.2330e-05 - val_loss: 1.1878e-05\n",
            "Epoch 20/100\n",
            "69958/69958 [==============================] - 48s 692us/step - loss: 1.2238e-05 - val_loss: 1.2227e-05\n",
            "Epoch 21/100\n",
            "69958/69958 [==============================] - 47s 672us/step - loss: 1.2040e-05 - val_loss: 1.1517e-05\n",
            "Epoch 22/100\n",
            "69958/69958 [==============================] - 48s 682us/step - loss: 1.1698e-05 - val_loss: 1.2881e-05\n",
            "Epoch 23/100\n",
            "69958/69958 [==============================] - 47s 673us/step - loss: 1.1724e-05 - val_loss: 1.2440e-05\n",
            "Epoch 24/100\n",
            "69958/69958 [==============================] - 47s 670us/step - loss: 1.1282e-05 - val_loss: 1.1876e-05\n",
            "Epoch 25/100\n",
            "69958/69958 [==============================] - 48s 681us/step - loss: 1.1359e-05 - val_loss: 1.1451e-05\n",
            "Epoch 26/100\n",
            "69958/69958 [==============================] - 46s 663us/step - loss: 1.1105e-05 - val_loss: 1.0771e-05\n",
            "Epoch 27/100\n",
            "69958/69958 [==============================] - 49s 706us/step - loss: 1.0923e-05 - val_loss: 1.1550e-05\n",
            "Epoch 28/100\n",
            "69958/69958 [==============================] - 46s 664us/step - loss: 1.0918e-05 - val_loss: 1.1188e-05\n",
            "Epoch 29/100\n",
            "69958/69958 [==============================] - 47s 679us/step - loss: 1.0554e-05 - val_loss: 1.3212e-05\n",
            "Epoch 30/100\n",
            "69958/69958 [==============================] - 48s 681us/step - loss: 1.0549e-05 - val_loss: 1.0545e-05\n",
            "Epoch 31/100\n",
            "69958/69958 [==============================] - 46s 662us/step - loss: 1.0416e-05 - val_loss: 1.1858e-05\n",
            "Epoch 32/100\n",
            "69958/69958 [==============================] - 47s 678us/step - loss: 1.0300e-05 - val_loss: 1.0225e-05\n",
            "Epoch 33/100\n",
            "69958/69958 [==============================] - 48s 685us/step - loss: 1.0526e-05 - val_loss: 1.0176e-05\n",
            "Epoch 34/100\n",
            "69958/69958 [==============================] - 48s 685us/step - loss: 1.0203e-05 - val_loss: 1.0076e-05\n",
            "Epoch 35/100\n",
            "69958/69958 [==============================] - 48s 681us/step - loss: 1.0311e-05 - val_loss: 1.0336e-05\n",
            "Epoch 36/100\n",
            "69958/69958 [==============================] - 46s 661us/step - loss: 9.9672e-06 - val_loss: 9.6662e-06\n",
            "Epoch 37/100\n",
            "69958/69958 [==============================] - 48s 679us/step - loss: 9.7369e-06 - val_loss: 9.7682e-06\n",
            "Epoch 38/100\n",
            "69958/69958 [==============================] - 46s 664us/step - loss: 9.6215e-06 - val_loss: 9.4442e-06\n",
            "Epoch 39/100\n",
            "69958/69958 [==============================] - 48s 680us/step - loss: 9.5772e-06 - val_loss: 1.0210e-05\n",
            "Epoch 40/100\n",
            "69958/69958 [==============================] - 50s 709us/step - loss: 9.5278e-06 - val_loss: 9.7051e-06\n",
            "Epoch 41/100\n",
            "69958/69958 [==============================] - 47s 666us/step - loss: 9.4551e-06 - val_loss: 9.7764e-06\n",
            "Epoch 42/100\n",
            "69958/69958 [==============================] - 47s 678us/step - loss: 9.3078e-06 - val_loss: 9.3216e-06\n",
            "Epoch 43/100\n",
            "69958/69958 [==============================] - 46s 664us/step - loss: 9.1360e-06 - val_loss: 9.4161e-06\n",
            "Epoch 44/100\n",
            "69958/69958 [==============================] - 48s 681us/step - loss: 8.9745e-06 - val_loss: 9.0585e-06\n",
            "Epoch 45/100\n",
            "69958/69958 [==============================] - 46s 664us/step - loss: 8.7595e-06 - val_loss: 8.7991e-06\n",
            "Epoch 46/100\n",
            "69958/69958 [==============================] - 49s 699us/step - loss: 9.2572e-06 - val_loss: 9.9810e-06\n",
            "Epoch 47/100\n",
            "69958/69958 [==============================] - 48s 680us/step - loss: 8.8536e-06 - val_loss: 8.6847e-06\n",
            "Epoch 48/100\n",
            "69958/69958 [==============================] - 46s 661us/step - loss: 8.4873e-06 - val_loss: 8.9796e-06\n",
            "Epoch 49/100\n",
            "69958/69958 [==============================] - 48s 681us/step - loss: 8.5953e-06 - val_loss: 9.0154e-06\n",
            "Epoch 50/100\n",
            "69958/69958 [==============================] - 46s 663us/step - loss: 8.4671e-06 - val_loss: 8.9495e-06\n",
            "Epoch 51/100\n",
            "69958/69958 [==============================] - 47s 678us/step - loss: 8.3387e-06 - val_loss: 8.7980e-06\n",
            "Epoch 52/100\n",
            "69958/69958 [==============================] - 47s 679us/step - loss: 8.1883e-06 - val_loss: 8.6529e-06\n",
            "Epoch 53/100\n",
            "69958/69958 [==============================] - 48s 685us/step - loss: 8.2319e-06 - val_loss: 8.2349e-06\n",
            "Epoch 54/100\n",
            "69958/69958 [==============================] - 47s 679us/step - loss: 8.0410e-06 - val_loss: 8.6198e-06\n",
            "Epoch 55/100\n",
            "69958/69958 [==============================] - 46s 661us/step - loss: 7.9505e-06 - val_loss: 9.0039e-06\n",
            "Epoch 56/100\n",
            "69958/69958 [==============================] - 48s 679us/step - loss: 7.8592e-06 - val_loss: 7.9754e-06\n",
            "Epoch 57/100\n",
            "69958/69958 [==============================] - 47s 670us/step - loss: 7.7290e-06 - val_loss: 8.0194e-06\n",
            "Epoch 58/100\n",
            "69958/69958 [==============================] - 47s 668us/step - loss: 7.6777e-06 - val_loss: 8.1917e-06\n",
            "Epoch 59/100\n",
            "69958/69958 [==============================] - 49s 694us/step - loss: 7.3751e-06 - val_loss: 8.1508e-06\n",
            "Epoch 60/100\n",
            "69958/69958 [==============================] - 47s 673us/step - loss: 7.7009e-06 - val_loss: 7.5679e-06\n",
            "Epoch 61/100\n",
            "69958/69958 [==============================] - 47s 678us/step - loss: 7.3039e-06 - val_loss: 7.6238e-06\n",
            "Epoch 62/100\n",
            "69958/69958 [==============================] - 46s 661us/step - loss: 7.2551e-06 - val_loss: 7.6670e-06\n",
            "Epoch 63/100\n",
            "69958/69958 [==============================] - 47s 678us/step - loss: 7.0822e-06 - val_loss: 7.6528e-06\n",
            "Epoch 64/100\n",
            "69958/69958 [==============================] - 47s 679us/step - loss: 7.1622e-06 - val_loss: 7.8875e-06\n",
            "Epoch 65/100\n",
            "69958/69958 [==============================] - 46s 660us/step - loss: 6.8435e-06 - val_loss: 7.4170e-06\n",
            "Epoch 66/100\n",
            "69958/69958 [==============================] - 49s 704us/step - loss: 6.7637e-06 - val_loss: 7.1318e-06\n",
            "Epoch 67/100\n",
            "69958/69958 [==============================] - 46s 659us/step - loss: 6.6394e-06 - val_loss: 7.3177e-06\n",
            "Epoch 68/100\n",
            "69958/69958 [==============================] - 48s 680us/step - loss: 6.7765e-06 - val_loss: 7.2982e-06\n",
            "Epoch 69/100\n",
            "69958/69958 [==============================] - 47s 675us/step - loss: 6.5530e-06 - val_loss: 7.2357e-06\n",
            "Epoch 70/100\n",
            "69958/69958 [==============================] - 46s 659us/step - loss: 6.3645e-06 - val_loss: 7.6016e-06\n",
            "Epoch 71/100\n",
            "69958/69958 [==============================] - 47s 676us/step - loss: 6.4411e-06 - val_loss: 6.8879e-06\n",
            "Epoch 72/100\n",
            "69958/69958 [==============================] - 47s 669us/step - loss: 6.3126e-06 - val_loss: 7.0839e-06\n",
            "Epoch 73/100\n",
            "69958/69958 [==============================] - 48s 687us/step - loss: 6.3468e-06 - val_loss: 6.6757e-06\n",
            "Epoch 74/100\n",
            "69958/69958 [==============================] - 46s 660us/step - loss: 6.3714e-06 - val_loss: 6.9534e-06\n",
            "Epoch 75/100\n",
            "69958/69958 [==============================] - 47s 669us/step - loss: 5.9928e-06 - val_loss: 6.5576e-06\n",
            "Epoch 76/100\n",
            "69958/69958 [==============================] - 47s 678us/step - loss: 6.0671e-06 - val_loss: 7.0091e-06\n",
            "Epoch 77/100\n",
            "69958/69958 [==============================] - 46s 659us/step - loss: 6.0281e-06 - val_loss: 6.3359e-06\n",
            "Epoch 78/100\n",
            "69958/69958 [==============================] - 47s 678us/step - loss: 6.0029e-06 - val_loss: 6.5096e-06\n",
            "Epoch 79/100\n",
            "69958/69958 [==============================] - 48s 691us/step - loss: 5.7633e-06 - val_loss: 6.5866e-06\n",
            "Epoch 80/100\n",
            "69958/69958 [==============================] - 47s 677us/step - loss: 5.7836e-06 - val_loss: 6.4216e-06\n",
            "Epoch 81/100\n",
            "69958/69958 [==============================] - 47s 678us/step - loss: 5.7511e-06 - val_loss: 7.4216e-06\n",
            "Epoch 82/100\n",
            "69958/69958 [==============================] - 46s 659us/step - loss: 5.7008e-06 - val_loss: 6.6358e-06\n",
            "Epoch 83/100\n",
            "69958/69958 [==============================] - 47s 678us/step - loss: 5.7870e-06 - val_loss: 6.2098e-06\n",
            "Epoch 84/100\n",
            "69958/69958 [==============================] - 46s 659us/step - loss: 5.4638e-06 - val_loss: 6.5606e-06\n",
            "Epoch 85/100\n",
            "69958/69958 [==============================] - 48s 688us/step - loss: 5.4667e-06 - val_loss: 6.4714e-06\n",
            "Epoch 86/100\n",
            "69958/69958 [==============================] - 48s 693us/step - loss: 5.5368e-06 - val_loss: 5.9815e-06\n",
            "Epoch 87/100\n",
            "69958/69958 [==============================] - 47s 665us/step - loss: 5.3394e-06 - val_loss: 6.0593e-06\n",
            "Epoch 88/100\n",
            "69958/69958 [==============================] - 47s 679us/step - loss: 5.3122e-06 - val_loss: 6.2395e-06\n",
            "Epoch 89/100\n",
            "69958/69958 [==============================] - 46s 662us/step - loss: 5.1877e-06 - val_loss: 5.8459e-06\n",
            "Epoch 90/100\n",
            "69958/69958 [==============================] - 48s 679us/step - loss: 5.1236e-06 - val_loss: 6.0527e-06\n",
            "Epoch 91/100\n",
            "69958/69958 [==============================] - 46s 661us/step - loss: 5.1869e-06 - val_loss: 5.6113e-06\n",
            "Epoch 92/100\n",
            "69958/69958 [==============================] - 49s 702us/step - loss: 5.4746e-06 - val_loss: 7.1990e-06\n",
            "Epoch 93/100\n",
            "69958/69958 [==============================] - 48s 686us/step - loss: 5.0939e-06 - val_loss: 5.6928e-06\n",
            "Epoch 94/100\n",
            "69958/69958 [==============================] - 46s 662us/step - loss: 4.9484e-06 - val_loss: 5.7874e-06\n",
            "Epoch 95/100\n",
            "69958/69958 [==============================] - 47s 678us/step - loss: 5.0235e-06 - val_loss: 5.3977e-06\n",
            "Epoch 96/100\n",
            "69958/69958 [==============================] - 46s 662us/step - loss: 4.7969e-06 - val_loss: 5.8874e-06\n",
            "Epoch 97/100\n",
            "69958/69958 [==============================] - 48s 681us/step - loss: 4.8600e-06 - val_loss: 6.4842e-06\n",
            "Epoch 98/100\n",
            "69958/69958 [==============================] - 48s 689us/step - loss: 4.9549e-06 - val_loss: 5.4634e-06\n",
            "Epoch 99/100\n",
            "69958/69958 [==============================] - 48s 684us/step - loss: 4.7131e-06 - val_loss: 5.9498e-06\n",
            "Epoch 100/100\n",
            "69958/69958 [==============================] - 47s 677us/step - loss: 4.7582e-06 - val_loss: 5.8292e-06\n"
          ],
          "name": "stdout"
        },
        {
          "output_type": "execute_result",
          "data": {
            "text/plain": [
              "<keras.callbacks.History at 0x7f046a318588>"
            ]
          },
          "metadata": {
            "tags": []
          },
          "execution_count": 11
        }
      ]
    },
    {
      "cell_type": "markdown",
      "metadata": {
        "id": "RpHFfJvCGetX",
        "colab_type": "text"
      },
      "source": [
        "#### 6. evaluation"
      ]
    },
    {
      "cell_type": "code",
      "metadata": {
        "id": "wPqXQ_jVGiEz",
        "colab_type": "code",
        "colab": {
          "base_uri": "https://localhost:8080/",
          "height": 269
        },
        "outputId": "861595f6-6849-4f42-806e-4939d669e591"
      },
      "source": [
        "predict_number=100\n",
        "Y_esitmated=model.predict(X_test[0:predict_number])\n",
        "fig=plt.figure()\n",
        "plt.plot(range(predict_number),Y_esitmated,'bo')\n",
        "plt.plot(range(predict_number),Y_test[0:predict_number],'ro')\n",
        "plt.show()"
      ],
      "execution_count": 16,
      "outputs": [
        {
          "output_type": "display_data",
          "data": {
            "image/png": "[encoded data removed]",
            "text/plain": [
              "<Figure size 432x288 with 1 Axes>"
            ]
          },
          "metadata": {
            "tags": []
          }
        }
      ]
    },
    {
      "cell_type": "code",
      "metadata": {
        "id": "VjEK10n4NO2B",
        "colab_type": "code",
        "colab": {
          "base_uri": "https://localhost:8080/",
          "height": 53
        },
        "outputId": "9cc466f3-0b08-436f-9f6b-604edf01f14c"
      },
      "source": [
        "model.evaluate(X_test, Y_test, verbose=1)"
      ],
      "execution_count": 17,
      "outputs": [
        {
          "output_type": "stream",
          "text": [
            "29982/29982 [==============================] - 28s 933us/step\n"
          ],
          "name": "stdout"
        },
        {
          "output_type": "execute_result",
          "data": {
            "text/plain": [
              "5.82923933873379e-06"
            ]
          },
          "metadata": {
            "tags": []
          },
          "execution_count": 17
        }
      ]
    },
    {
      "cell_type": "markdown",
      "metadata": {
        "id": "RHv52DEZQLLa",
        "colab_type": "text"
      },
      "source": [
        "#### 7. conclusion\n",
        "The loss is small enough ..."
      ]
    }
  ]
}